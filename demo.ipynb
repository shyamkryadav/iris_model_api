{
 "cells": [
  {
   "cell_type": "code",
   "execution_count": null,
   "metadata": {},
   "outputs": [
    {
     "ename": "ModuleNotFoundError",
     "evalue": "No module named 'transformers'",
     "output_type": "error",
     "traceback": [
      "\u001b[1;31m---------------------------------------------------------------------------\u001b[0m",
      "\u001b[1;31mModuleNotFoundError\u001b[0m                       Traceback (most recent call last)",
      "Cell \u001b[1;32mIn[11], line 1\u001b[0m\n\u001b[1;32m----> 1\u001b[0m \u001b[38;5;28;01mfrom\u001b[39;00m \u001b[38;5;21;01mtransformers\u001b[39;00m \u001b[38;5;28;01mimport\u001b[39;00m pipeline\n\u001b[0;32m      3\u001b[0m \u001b[38;5;66;03m# Load the summarization pipeline\u001b[39;00m\n\u001b[0;32m      4\u001b[0m summarizer \u001b[38;5;241m=\u001b[39m pipeline(\u001b[38;5;124m\"\u001b[39m\u001b[38;5;124msummarization\u001b[39m\u001b[38;5;124m\"\u001b[39m)\n",
      "\u001b[1;31mModuleNotFoundError\u001b[0m: No module named 'transformers'"
     ]
    }
   ],
   "source": [
    "from gensim.summarization import summarize\n",
    "\n",
    "# Original text\n",
    "text = \"\"\"\n",
    "भारत सरकारले हालै प्रकाशित गरेको नयाँ राजनीतिक नक्शालाई लिएर नेपालको\n",
    "कालापानी क्षेत्र सम्बन्धमा प्रकाशित बिभिन्न समाचार एवं टिप्पणीप्रति नेपाल सरकारको\n",
    "ध्यानाकर्षण भएको छ ।\n",
    "\n",
    "कालापानी क्षेत्र नेपालको भूभाग हो भन्ने विषयमा नेपाल सरकार स्पष्ट छ |\n",
    "\n",
    "नेपाल तथा भारतका परराष्ट्र मन्त्रीस्तरीय संयुक्त आयोगका बैठकहरूबाट दुई: देश\n",
    "बीचका समाधान हुन बाँकी सीमा सम्बन्धी समस्याहरूको समाधानको लागि\n",
    "प्राविधिकहरूको सल्लाहमा दुवै देशका परराष्ट्र सचिवहरूले काम गर्ने गरी जिम्मेवारी\n",
    "दिइएको छ ।\n",
    "\n",
    "दुई देश बीच सुल्झाउन बाँकी रहेका सीमा सम्बन्धी विषयहरू दुवै पक्षको आपसी\n",
    "सहमतिमा टुङ्ग्याउनु पर्ने र एकपक्षीय ढंगबाट गरिने कुनै पनि निर्णय नेपाल\n",
    "सरकारलाई मान्य नहुने कुरा स्पष्ट छ ।\n",
    "\n",
    "नेपाल सरकार नेपालको अन्तर्राष्ट्रिय सिमाना रक्षाको लागि प्रतिबद्ध रहेको र दुई मित्र\n",
    "राष्ट्रहरू बीचको सीमा समस्याको समाधान ऐतिहासिक दस्तावेज एवं तथ्य प्रमाणहरूको\n",
    "आधारमा कूटनीतिक माध्यमबाट हुनु पर्ने मान्यतामा दृढ रहेको छ ।\n",
    "\"\"\"\n",
    "\n",
    "# Generate summary\n",
    "summary = summarize(text, word_count=100)\n",
    "print(summary)\n"
   ]
  }
 ],
 "metadata": {
  "kernelspec": {
   "display_name": "Python 3",
   "language": "python",
   "name": "python3"
  },
  "language_info": {
   "codemirror_mode": {
    "name": "ipython",
    "version": 3
   },
   "file_extension": ".py",
   "mimetype": "text/x-python",
   "name": "python",
   "nbconvert_exporter": "python",
   "pygments_lexer": "ipython3",
   "version": "3.13.0"
  }
 },
 "nbformat": 4,
 "nbformat_minor": 2
}
